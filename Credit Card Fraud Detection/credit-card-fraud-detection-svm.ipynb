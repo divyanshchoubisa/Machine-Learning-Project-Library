{
 "cells": [
  {
   "cell_type": "code",
   "execution_count": 1,
   "metadata": {
    "_cell_guid": "b1076dfc-b9ad-4769-8c92-a6c4dae69d19",
    "_uuid": "8f2839f25d086af736a60e9eeb907d3b93b6e0e5",
    "execution": {
     "iopub.execute_input": "2020-08-09T18:28:04.755391Z",
     "iopub.status.busy": "2020-08-09T18:28:04.754542Z",
     "iopub.status.idle": "2020-08-09T18:28:06.282140Z",
     "shell.execute_reply": "2020-08-09T18:28:06.281243Z"
    },
    "papermill": {
     "duration": 1.546802,
     "end_time": "2020-08-09T18:28:06.282282",
     "exception": false,
     "start_time": "2020-08-09T18:28:04.735480",
     "status": "completed"
    },
    "tags": []
   },
   "outputs": [],
   "source": [
    "#Lets Import Important Libraries\n",
    "import pandas as pd\n",
    "import numpy as np\n",
    "import warnings\n",
    "import matplotlib.pyplot as plt\n",
    "import seaborn as sns\n",
    "from imblearn.over_sampling import RandomOverSampler\n",
    "#from imblearn.combine import SMOTETome - Class to perform over-sampling using SMOTE (Synthetic Minority Oversampling Technique).\n",
    "warnings.simplefilter(\"ignore\")"
   ]
  },
  {
   "cell_type": "code",
   "execution_count": 2,
   "metadata": {
    "_cell_guid": "79c7e3d0-c299-4dcb-8224-4455121ee9b0",
    "_uuid": "d629ff2d2480ee46fbb7e2d37f6b5fab8052498a",
    "execution": {
     "iopub.execute_input": "2020-08-09T18:28:06.312157Z",
     "iopub.status.busy": "2020-08-09T18:28:06.311001Z",
     "iopub.status.idle": "2020-08-09T18:28:09.066454Z",
     "shell.execute_reply": "2020-08-09T18:28:09.067039Z"
    },
    "papermill": {
     "duration": 2.77423,
     "end_time": "2020-08-09T18:28:09.067205",
     "exception": false,
     "start_time": "2020-08-09T18:28:06.292975",
     "status": "completed"
    },
    "tags": []
   },
   "outputs": [
    {
     "data": {
      "text/html": [
       "<div>\n",
       "<style scoped>\n",
       "    .dataframe tbody tr th:only-of-type {\n",
       "        vertical-align: middle;\n",
       "    }\n",
       "\n",
       "    .dataframe tbody tr th {\n",
       "        vertical-align: top;\n",
       "    }\n",
       "\n",
       "    .dataframe thead th {\n",
       "        text-align: right;\n",
       "    }\n",
       "</style>\n",
       "<table border=\"1\" class=\"dataframe\">\n",
       "  <thead>\n",
       "    <tr style=\"text-align: right;\">\n",
       "      <th></th>\n",
       "      <th>V1</th>\n",
       "      <th>V2</th>\n",
       "      <th>V3</th>\n",
       "      <th>V4</th>\n",
       "      <th>V5</th>\n",
       "      <th>V6</th>\n",
       "      <th>V7</th>\n",
       "      <th>V8</th>\n",
       "      <th>V9</th>\n",
       "      <th>V10</th>\n",
       "      <th>...</th>\n",
       "      <th>V21</th>\n",
       "      <th>V22</th>\n",
       "      <th>V23</th>\n",
       "      <th>V24</th>\n",
       "      <th>V25</th>\n",
       "      <th>V26</th>\n",
       "      <th>V27</th>\n",
       "      <th>V28</th>\n",
       "      <th>Amount</th>\n",
       "      <th>Class</th>\n",
       "    </tr>\n",
       "  </thead>\n",
       "  <tbody>\n",
       "    <tr>\n",
       "      <th>0</th>\n",
       "      <td>-1.359807</td>\n",
       "      <td>-0.072781</td>\n",
       "      <td>2.536347</td>\n",
       "      <td>1.378155</td>\n",
       "      <td>-0.338321</td>\n",
       "      <td>0.462388</td>\n",
       "      <td>0.239599</td>\n",
       "      <td>0.098698</td>\n",
       "      <td>0.363787</td>\n",
       "      <td>0.090794</td>\n",
       "      <td>...</td>\n",
       "      <td>-0.018307</td>\n",
       "      <td>0.277838</td>\n",
       "      <td>-0.110474</td>\n",
       "      <td>0.066928</td>\n",
       "      <td>0.128539</td>\n",
       "      <td>-0.189115</td>\n",
       "      <td>0.133558</td>\n",
       "      <td>-0.021053</td>\n",
       "      <td>149.62</td>\n",
       "      <td>0</td>\n",
       "    </tr>\n",
       "    <tr>\n",
       "      <th>1</th>\n",
       "      <td>1.191857</td>\n",
       "      <td>0.266151</td>\n",
       "      <td>0.166480</td>\n",
       "      <td>0.448154</td>\n",
       "      <td>0.060018</td>\n",
       "      <td>-0.082361</td>\n",
       "      <td>-0.078803</td>\n",
       "      <td>0.085102</td>\n",
       "      <td>-0.255425</td>\n",
       "      <td>-0.166974</td>\n",
       "      <td>...</td>\n",
       "      <td>-0.225775</td>\n",
       "      <td>-0.638672</td>\n",
       "      <td>0.101288</td>\n",
       "      <td>-0.339846</td>\n",
       "      <td>0.167170</td>\n",
       "      <td>0.125895</td>\n",
       "      <td>-0.008983</td>\n",
       "      <td>0.014724</td>\n",
       "      <td>2.69</td>\n",
       "      <td>0</td>\n",
       "    </tr>\n",
       "    <tr>\n",
       "      <th>2</th>\n",
       "      <td>-1.358354</td>\n",
       "      <td>-1.340163</td>\n",
       "      <td>1.773209</td>\n",
       "      <td>0.379780</td>\n",
       "      <td>-0.503198</td>\n",
       "      <td>1.800499</td>\n",
       "      <td>0.791461</td>\n",
       "      <td>0.247676</td>\n",
       "      <td>-1.514654</td>\n",
       "      <td>0.207643</td>\n",
       "      <td>...</td>\n",
       "      <td>0.247998</td>\n",
       "      <td>0.771679</td>\n",
       "      <td>0.909412</td>\n",
       "      <td>-0.689281</td>\n",
       "      <td>-0.327642</td>\n",
       "      <td>-0.139097</td>\n",
       "      <td>-0.055353</td>\n",
       "      <td>-0.059752</td>\n",
       "      <td>378.66</td>\n",
       "      <td>0</td>\n",
       "    </tr>\n",
       "    <tr>\n",
       "      <th>3</th>\n",
       "      <td>-0.966272</td>\n",
       "      <td>-0.185226</td>\n",
       "      <td>1.792993</td>\n",
       "      <td>-0.863291</td>\n",
       "      <td>-0.010309</td>\n",
       "      <td>1.247203</td>\n",
       "      <td>0.237609</td>\n",
       "      <td>0.377436</td>\n",
       "      <td>-1.387024</td>\n",
       "      <td>-0.054952</td>\n",
       "      <td>...</td>\n",
       "      <td>-0.108300</td>\n",
       "      <td>0.005274</td>\n",
       "      <td>-0.190321</td>\n",
       "      <td>-1.175575</td>\n",
       "      <td>0.647376</td>\n",
       "      <td>-0.221929</td>\n",
       "      <td>0.062723</td>\n",
       "      <td>0.061458</td>\n",
       "      <td>123.50</td>\n",
       "      <td>0</td>\n",
       "    </tr>\n",
       "    <tr>\n",
       "      <th>4</th>\n",
       "      <td>-1.158233</td>\n",
       "      <td>0.877737</td>\n",
       "      <td>1.548718</td>\n",
       "      <td>0.403034</td>\n",
       "      <td>-0.407193</td>\n",
       "      <td>0.095921</td>\n",
       "      <td>0.592941</td>\n",
       "      <td>-0.270533</td>\n",
       "      <td>0.817739</td>\n",
       "      <td>0.753074</td>\n",
       "      <td>...</td>\n",
       "      <td>-0.009431</td>\n",
       "      <td>0.798278</td>\n",
       "      <td>-0.137458</td>\n",
       "      <td>0.141267</td>\n",
       "      <td>-0.206010</td>\n",
       "      <td>0.502292</td>\n",
       "      <td>0.219422</td>\n",
       "      <td>0.215153</td>\n",
       "      <td>69.99</td>\n",
       "      <td>0</td>\n",
       "    </tr>\n",
       "  </tbody>\n",
       "</table>\n",
       "<p>5 rows × 30 columns</p>\n",
       "</div>"
      ],
      "text/plain": [
       "         V1        V2        V3        V4        V5        V6        V7  \\\n",
       "0 -1.359807 -0.072781  2.536347  1.378155 -0.338321  0.462388  0.239599   \n",
       "1  1.191857  0.266151  0.166480  0.448154  0.060018 -0.082361 -0.078803   \n",
       "2 -1.358354 -1.340163  1.773209  0.379780 -0.503198  1.800499  0.791461   \n",
       "3 -0.966272 -0.185226  1.792993 -0.863291 -0.010309  1.247203  0.237609   \n",
       "4 -1.158233  0.877737  1.548718  0.403034 -0.407193  0.095921  0.592941   \n",
       "\n",
       "         V8        V9       V10  ...       V21       V22       V23       V24  \\\n",
       "0  0.098698  0.363787  0.090794  ... -0.018307  0.277838 -0.110474  0.066928   \n",
       "1  0.085102 -0.255425 -0.166974  ... -0.225775 -0.638672  0.101288 -0.339846   \n",
       "2  0.247676 -1.514654  0.207643  ...  0.247998  0.771679  0.909412 -0.689281   \n",
       "3  0.377436 -1.387024 -0.054952  ... -0.108300  0.005274 -0.190321 -1.175575   \n",
       "4 -0.270533  0.817739  0.753074  ... -0.009431  0.798278 -0.137458  0.141267   \n",
       "\n",
       "        V25       V26       V27       V28  Amount  Class  \n",
       "0  0.128539 -0.189115  0.133558 -0.021053  149.62      0  \n",
       "1  0.167170  0.125895 -0.008983  0.014724    2.69      0  \n",
       "2 -0.327642 -0.139097 -0.055353 -0.059752  378.66      0  \n",
       "3  0.647376 -0.221929  0.062723  0.061458  123.50      0  \n",
       "4 -0.206010  0.502292  0.219422  0.215153   69.99      0  \n",
       "\n",
       "[5 rows x 30 columns]"
      ]
     },
     "execution_count": 2,
     "metadata": {},
     "output_type": "execute_result"
    }
   ],
   "source": [
    "df = pd.read_csv('../input/creditcardfraud/creditcard.csv')\n",
    "df.drop(['Time'],axis=1,inplace=True)\n",
    "df.head()"
   ]
  },
  {
   "cell_type": "markdown",
   "metadata": {
    "papermill": {
     "duration": 0.01017,
     "end_time": "2020-08-09T18:28:09.088268",
     "exception": false,
     "start_time": "2020-08-09T18:28:09.078098",
     "status": "completed"
    },
    "tags": []
   },
   "source": [
    "Here the values of Amount column are not scaled so  lets scale them first."
   ]
  },
  {
   "cell_type": "code",
   "execution_count": 3,
   "metadata": {
    "execution": {
     "iopub.execute_input": "2020-08-09T18:28:09.117301Z",
     "iopub.status.busy": "2020-08-09T18:28:09.116488Z",
     "iopub.status.idle": "2020-08-09T18:28:09.152323Z",
     "shell.execute_reply": "2020-08-09T18:28:09.151630Z"
    },
    "papermill": {
     "duration": 0.053965,
     "end_time": "2020-08-09T18:28:09.152456",
     "exception": false,
     "start_time": "2020-08-09T18:28:09.098491",
     "status": "completed"
    },
    "tags": []
   },
   "outputs": [
    {
     "data": {
      "text/html": [
       "<div>\n",
       "<style scoped>\n",
       "    .dataframe tbody tr th:only-of-type {\n",
       "        vertical-align: middle;\n",
       "    }\n",
       "\n",
       "    .dataframe tbody tr th {\n",
       "        vertical-align: top;\n",
       "    }\n",
       "\n",
       "    .dataframe thead th {\n",
       "        text-align: right;\n",
       "    }\n",
       "</style>\n",
       "<table border=\"1\" class=\"dataframe\">\n",
       "  <thead>\n",
       "    <tr style=\"text-align: right;\">\n",
       "      <th></th>\n",
       "      <th>V1</th>\n",
       "      <th>V2</th>\n",
       "      <th>V3</th>\n",
       "      <th>V4</th>\n",
       "      <th>V5</th>\n",
       "      <th>V6</th>\n",
       "      <th>V7</th>\n",
       "      <th>V8</th>\n",
       "      <th>V9</th>\n",
       "      <th>V10</th>\n",
       "      <th>...</th>\n",
       "      <th>V22</th>\n",
       "      <th>V23</th>\n",
       "      <th>V24</th>\n",
       "      <th>V25</th>\n",
       "      <th>V26</th>\n",
       "      <th>V27</th>\n",
       "      <th>V28</th>\n",
       "      <th>Amount</th>\n",
       "      <th>Class</th>\n",
       "      <th>norm_amount</th>\n",
       "    </tr>\n",
       "  </thead>\n",
       "  <tbody>\n",
       "    <tr>\n",
       "      <th>0</th>\n",
       "      <td>-1.359807</td>\n",
       "      <td>-0.072781</td>\n",
       "      <td>2.536347</td>\n",
       "      <td>1.378155</td>\n",
       "      <td>-0.338321</td>\n",
       "      <td>0.462388</td>\n",
       "      <td>0.239599</td>\n",
       "      <td>0.098698</td>\n",
       "      <td>0.363787</td>\n",
       "      <td>0.090794</td>\n",
       "      <td>...</td>\n",
       "      <td>0.277838</td>\n",
       "      <td>-0.110474</td>\n",
       "      <td>0.066928</td>\n",
       "      <td>0.128539</td>\n",
       "      <td>-0.189115</td>\n",
       "      <td>0.133558</td>\n",
       "      <td>-0.021053</td>\n",
       "      <td>149.62</td>\n",
       "      <td>0</td>\n",
       "      <td>0.244964</td>\n",
       "    </tr>\n",
       "  </tbody>\n",
       "</table>\n",
       "<p>1 rows × 31 columns</p>\n",
       "</div>"
      ],
      "text/plain": [
       "         V1        V2        V3        V4        V5        V6        V7  \\\n",
       "0 -1.359807 -0.072781  2.536347  1.378155 -0.338321  0.462388  0.239599   \n",
       "\n",
       "         V8        V9       V10  ...       V22       V23       V24       V25  \\\n",
       "0  0.098698  0.363787  0.090794  ...  0.277838 -0.110474  0.066928  0.128539   \n",
       "\n",
       "        V26       V27       V28  Amount  Class  norm_amount  \n",
       "0 -0.189115  0.133558 -0.021053  149.62      0     0.244964  \n",
       "\n",
       "[1 rows x 31 columns]"
      ]
     },
     "execution_count": 3,
     "metadata": {},
     "output_type": "execute_result"
    }
   ],
   "source": [
    "from sklearn.preprocessing import StandardScaler\n",
    "df['norm_amount'] = StandardScaler().fit_transform(df['Amount'].values.reshape(-1, 1))\n",
    "df.head(1)"
   ]
  },
  {
   "cell_type": "code",
   "execution_count": 4,
   "metadata": {
    "execution": {
     "iopub.execute_input": "2020-08-09T18:28:09.180275Z",
     "iopub.status.busy": "2020-08-09T18:28:09.179491Z",
     "iopub.status.idle": "2020-08-09T18:28:09.329711Z",
     "shell.execute_reply": "2020-08-09T18:28:09.328872Z"
    },
    "papermill": {
     "duration": 0.166436,
     "end_time": "2020-08-09T18:28:09.329849",
     "exception": false,
     "start_time": "2020-08-09T18:28:09.163413",
     "status": "completed"
    },
    "tags": []
   },
   "outputs": [],
   "source": [
    "df.drop(['Amount'],axis=1,inplace=True)"
   ]
  },
  {
   "cell_type": "markdown",
   "metadata": {
    "papermill": {
     "duration": 0.010462,
     "end_time": "2020-08-09T18:28:09.352584",
     "exception": false,
     "start_time": "2020-08-09T18:28:09.342122",
     "status": "completed"
    },
    "tags": []
   },
   "source": [
    "Lets see if there is any missing value."
   ]
  },
  {
   "cell_type": "code",
   "execution_count": 5,
   "metadata": {
    "execution": {
     "iopub.execute_input": "2020-08-09T18:28:09.379980Z",
     "iopub.status.busy": "2020-08-09T18:28:09.379082Z",
     "iopub.status.idle": "2020-08-09T18:28:09.412366Z",
     "shell.execute_reply": "2020-08-09T18:28:09.411356Z"
    },
    "papermill": {
     "duration": 0.049167,
     "end_time": "2020-08-09T18:28:09.412539",
     "exception": false,
     "start_time": "2020-08-09T18:28:09.363372",
     "status": "completed"
    },
    "tags": []
   },
   "outputs": [
    {
     "name": "stdout",
     "output_type": "stream",
     "text": [
      "The missing values in different columns are: \n",
      "V1             0\n",
      "V2             0\n",
      "V3             0\n",
      "V4             0\n",
      "V5             0\n",
      "V6             0\n",
      "V7             0\n",
      "V8             0\n",
      "V9             0\n",
      "V10            0\n",
      "V11            0\n",
      "V12            0\n",
      "V13            0\n",
      "V14            0\n",
      "V15            0\n",
      "V16            0\n",
      "V17            0\n",
      "V18            0\n",
      "V19            0\n",
      "V20            0\n",
      "V21            0\n",
      "V22            0\n",
      "V23            0\n",
      "V24            0\n",
      "V25            0\n",
      "V26            0\n",
      "V27            0\n",
      "V28            0\n",
      "Class          0\n",
      "norm_amount    0\n",
      "dtype: int64\n"
     ]
    }
   ],
   "source": [
    "print(\"The missing values in different columns are: \")\n",
    "print(df.isnull().sum())"
   ]
  },
  {
   "cell_type": "code",
   "execution_count": 6,
   "metadata": {
    "execution": {
     "iopub.execute_input": "2020-08-09T18:28:09.441175Z",
     "iopub.status.busy": "2020-08-09T18:28:09.440430Z",
     "iopub.status.idle": "2020-08-09T18:28:09.656709Z",
     "shell.execute_reply": "2020-08-09T18:28:09.656009Z"
    },
    "papermill": {
     "duration": 0.232736,
     "end_time": "2020-08-09T18:28:09.656852",
     "exception": false,
     "start_time": "2020-08-09T18:28:09.424116",
     "status": "completed"
    },
    "tags": []
   },
   "outputs": [
    {
     "data": {
      "text/plain": [
       "<matplotlib.axes._subplots.AxesSubplot at 0x7f60c35b4d50>"
      ]
     },
     "execution_count": 6,
     "metadata": {},
     "output_type": "execute_result"
    },
    {
     "data": {
      "image/png": "[encoded data removed]",
      "text/plain": [
       "<Figure size 432x432 with 1 Axes>"
      ]
     },
     "metadata": {
      "needs_background": "light"
     },
     "output_type": "display_data"
    }
   ],
   "source": [
    "show = df['Class'].value_counts()\n",
    "show.plot(kind='bar',figsize=(6,6),color='y')"
   ]
  },
  {
   "cell_type": "code",
   "execution_count": 7,
   "metadata": {
    "execution": {
     "iopub.execute_input": "2020-08-09T18:28:09.686910Z",
     "iopub.status.busy": "2020-08-09T18:28:09.686010Z",
     "iopub.status.idle": "2020-08-09T18:28:09.690628Z",
     "shell.execute_reply": "2020-08-09T18:28:09.689872Z"
    },
    "papermill": {
     "duration": 0.022446,
     "end_time": "2020-08-09T18:28:09.690799",
     "exception": false,
     "start_time": "2020-08-09T18:28:09.668353",
     "status": "completed"
    },
    "tags": []
   },
   "outputs": [
    {
     "data": {
      "text/plain": [
       "0    284315\n",
       "1       492\n",
       "Name: Class, dtype: int64"
      ]
     },
     "execution_count": 7,
     "metadata": {},
     "output_type": "execute_result"
    }
   ],
   "source": [
    "show"
   ]
  },
  {
   "cell_type": "code",
   "execution_count": 8,
   "metadata": {
    "execution": {
     "iopub.execute_input": "2020-08-09T18:28:09.724198Z",
     "iopub.status.busy": "2020-08-09T18:28:09.723235Z",
     "iopub.status.idle": "2020-08-09T18:28:09.727641Z",
     "shell.execute_reply": "2020-08-09T18:28:09.726715Z"
    },
    "papermill": {
     "duration": 0.025106,
     "end_time": "2020-08-09T18:28:09.727831",
     "exception": false,
     "start_time": "2020-08-09T18:28:09.702725",
     "status": "completed"
    },
    "tags": []
   },
   "outputs": [
    {
     "name": "stdout",
     "output_type": "stream",
     "text": [
      "The percentage of no frauds is in the provided data is :  99.82725143693798 %\n",
      "The percentage of frauds in the provided data is:  0.1727485630620034 %\n"
     ]
    }
   ],
   "source": [
    "print('The percentage of no frauds is in the provided data is : ',show[0]/show.sum() * 100,'%')\n",
    "print('The percentage of frauds in the provided data is: ',show[1]/show.sum() * 100,'%')"
   ]
  },
  {
   "cell_type": "code",
   "execution_count": 9,
   "metadata": {
    "execution": {
     "iopub.execute_input": "2020-08-09T18:28:09.758688Z",
     "iopub.status.busy": "2020-08-09T18:28:09.757923Z",
     "iopub.status.idle": "2020-08-09T18:28:09.801373Z",
     "shell.execute_reply": "2020-08-09T18:28:09.800777Z"
    },
    "papermill": {
     "duration": 0.061006,
     "end_time": "2020-08-09T18:28:09.801507",
     "exception": false,
     "start_time": "2020-08-09T18:28:09.740501",
     "status": "completed"
    },
    "tags": []
   },
   "outputs": [
    {
     "name": "stdout",
     "output_type": "stream",
     "text": [
      "(492, 30)\n",
      "(284315, 30)\n"
     ]
    }
   ],
   "source": [
    "frauds = df[df['Class'] == 1]\n",
    "non_frauds = df[df['Class'] == 0]\n",
    "print(frauds.shape)\n",
    "print(non_frauds.shape)"
   ]
  },
  {
   "cell_type": "markdown",
   "metadata": {
    "papermill": {
     "duration": 0.011312,
     "end_time": "2020-08-09T18:28:09.824567",
     "exception": false,
     "start_time": "2020-08-09T18:28:09.813255",
     "status": "completed"
    },
    "tags": []
   },
   "source": [
    "The data is clearly imbalanced. TO solve this we can either perfom undersampling or oversampling. In this notebook we will perform oversampling."
   ]
  },
  {
   "cell_type": "code",
   "execution_count": 10,
   "metadata": {
    "execution": {
     "iopub.execute_input": "2020-08-09T18:28:09.965512Z",
     "iopub.status.busy": "2020-08-09T18:28:09.941143Z",
     "iopub.status.idle": "2020-08-09T18:28:09.970084Z",
     "shell.execute_reply": "2020-08-09T18:28:09.969463Z"
    },
    "papermill": {
     "duration": 0.13374,
     "end_time": "2020-08-09T18:28:09.970230",
     "exception": false,
     "start_time": "2020-08-09T18:28:09.836490",
     "status": "completed"
    },
    "tags": []
   },
   "outputs": [
    {
     "data": {
      "text/html": [
       "<div>\n",
       "<style scoped>\n",
       "    .dataframe tbody tr th:only-of-type {\n",
       "        vertical-align: middle;\n",
       "    }\n",
       "\n",
       "    .dataframe tbody tr th {\n",
       "        vertical-align: top;\n",
       "    }\n",
       "\n",
       "    .dataframe thead th {\n",
       "        text-align: right;\n",
       "    }\n",
       "</style>\n",
       "<table border=\"1\" class=\"dataframe\">\n",
       "  <thead>\n",
       "    <tr style=\"text-align: right;\">\n",
       "      <th></th>\n",
       "      <th>V1</th>\n",
       "      <th>V2</th>\n",
       "      <th>V3</th>\n",
       "      <th>V4</th>\n",
       "      <th>V5</th>\n",
       "      <th>V6</th>\n",
       "      <th>V7</th>\n",
       "      <th>V8</th>\n",
       "      <th>V9</th>\n",
       "      <th>V10</th>\n",
       "      <th>...</th>\n",
       "      <th>V20</th>\n",
       "      <th>V21</th>\n",
       "      <th>V22</th>\n",
       "      <th>V23</th>\n",
       "      <th>V24</th>\n",
       "      <th>V25</th>\n",
       "      <th>V26</th>\n",
       "      <th>V27</th>\n",
       "      <th>V28</th>\n",
       "      <th>norm_amount</th>\n",
       "    </tr>\n",
       "  </thead>\n",
       "  <tbody>\n",
       "    <tr>\n",
       "      <th>0</th>\n",
       "      <td>-1.359807</td>\n",
       "      <td>-0.072781</td>\n",
       "      <td>2.536347</td>\n",
       "      <td>1.378155</td>\n",
       "      <td>-0.338321</td>\n",
       "      <td>0.462388</td>\n",
       "      <td>0.239599</td>\n",
       "      <td>0.098698</td>\n",
       "      <td>0.363787</td>\n",
       "      <td>0.090794</td>\n",
       "      <td>...</td>\n",
       "      <td>0.251412</td>\n",
       "      <td>-0.018307</td>\n",
       "      <td>0.277838</td>\n",
       "      <td>-0.110474</td>\n",
       "      <td>0.066928</td>\n",
       "      <td>0.128539</td>\n",
       "      <td>-0.189115</td>\n",
       "      <td>0.133558</td>\n",
       "      <td>-0.021053</td>\n",
       "      <td>0.244964</td>\n",
       "    </tr>\n",
       "    <tr>\n",
       "      <th>1</th>\n",
       "      <td>1.191857</td>\n",
       "      <td>0.266151</td>\n",
       "      <td>0.166480</td>\n",
       "      <td>0.448154</td>\n",
       "      <td>0.060018</td>\n",
       "      <td>-0.082361</td>\n",
       "      <td>-0.078803</td>\n",
       "      <td>0.085102</td>\n",
       "      <td>-0.255425</td>\n",
       "      <td>-0.166974</td>\n",
       "      <td>...</td>\n",
       "      <td>-0.069083</td>\n",
       "      <td>-0.225775</td>\n",
       "      <td>-0.638672</td>\n",
       "      <td>0.101288</td>\n",
       "      <td>-0.339846</td>\n",
       "      <td>0.167170</td>\n",
       "      <td>0.125895</td>\n",
       "      <td>-0.008983</td>\n",
       "      <td>0.014724</td>\n",
       "      <td>-0.342475</td>\n",
       "    </tr>\n",
       "    <tr>\n",
       "      <th>2</th>\n",
       "      <td>-1.358354</td>\n",
       "      <td>-1.340163</td>\n",
       "      <td>1.773209</td>\n",
       "      <td>0.379780</td>\n",
       "      <td>-0.503198</td>\n",
       "      <td>1.800499</td>\n",
       "      <td>0.791461</td>\n",
       "      <td>0.247676</td>\n",
       "      <td>-1.514654</td>\n",
       "      <td>0.207643</td>\n",
       "      <td>...</td>\n",
       "      <td>0.524980</td>\n",
       "      <td>0.247998</td>\n",
       "      <td>0.771679</td>\n",
       "      <td>0.909412</td>\n",
       "      <td>-0.689281</td>\n",
       "      <td>-0.327642</td>\n",
       "      <td>-0.139097</td>\n",
       "      <td>-0.055353</td>\n",
       "      <td>-0.059752</td>\n",
       "      <td>1.160686</td>\n",
       "    </tr>\n",
       "    <tr>\n",
       "      <th>3</th>\n",
       "      <td>-0.966272</td>\n",
       "      <td>-0.185226</td>\n",
       "      <td>1.792993</td>\n",
       "      <td>-0.863291</td>\n",
       "      <td>-0.010309</td>\n",
       "      <td>1.247203</td>\n",
       "      <td>0.237609</td>\n",
       "      <td>0.377436</td>\n",
       "      <td>-1.387024</td>\n",
       "      <td>-0.054952</td>\n",
       "      <td>...</td>\n",
       "      <td>-0.208038</td>\n",
       "      <td>-0.108300</td>\n",
       "      <td>0.005274</td>\n",
       "      <td>-0.190321</td>\n",
       "      <td>-1.175575</td>\n",
       "      <td>0.647376</td>\n",
       "      <td>-0.221929</td>\n",
       "      <td>0.062723</td>\n",
       "      <td>0.061458</td>\n",
       "      <td>0.140534</td>\n",
       "    </tr>\n",
       "    <tr>\n",
       "      <th>4</th>\n",
       "      <td>-1.158233</td>\n",
       "      <td>0.877737</td>\n",
       "      <td>1.548718</td>\n",
       "      <td>0.403034</td>\n",
       "      <td>-0.407193</td>\n",
       "      <td>0.095921</td>\n",
       "      <td>0.592941</td>\n",
       "      <td>-0.270533</td>\n",
       "      <td>0.817739</td>\n",
       "      <td>0.753074</td>\n",
       "      <td>...</td>\n",
       "      <td>0.408542</td>\n",
       "      <td>-0.009431</td>\n",
       "      <td>0.798278</td>\n",
       "      <td>-0.137458</td>\n",
       "      <td>0.141267</td>\n",
       "      <td>-0.206010</td>\n",
       "      <td>0.502292</td>\n",
       "      <td>0.219422</td>\n",
       "      <td>0.215153</td>\n",
       "      <td>-0.073403</td>\n",
       "    </tr>\n",
       "  </tbody>\n",
       "</table>\n",
       "<p>5 rows × 29 columns</p>\n",
       "</div>"
      ],
      "text/plain": [
       "         V1        V2        V3        V4        V5        V6        V7  \\\n",
       "0 -1.359807 -0.072781  2.536347  1.378155 -0.338321  0.462388  0.239599   \n",
       "1  1.191857  0.266151  0.166480  0.448154  0.060018 -0.082361 -0.078803   \n",
       "2 -1.358354 -1.340163  1.773209  0.379780 -0.503198  1.800499  0.791461   \n",
       "3 -0.966272 -0.185226  1.792993 -0.863291 -0.010309  1.247203  0.237609   \n",
       "4 -1.158233  0.877737  1.548718  0.403034 -0.407193  0.095921  0.592941   \n",
       "\n",
       "         V8        V9       V10  ...       V20       V21       V22       V23  \\\n",
       "0  0.098698  0.363787  0.090794  ...  0.251412 -0.018307  0.277838 -0.110474   \n",
       "1  0.085102 -0.255425 -0.166974  ... -0.069083 -0.225775 -0.638672  0.101288   \n",
       "2  0.247676 -1.514654  0.207643  ...  0.524980  0.247998  0.771679  0.909412   \n",
       "3  0.377436 -1.387024 -0.054952  ... -0.208038 -0.108300  0.005274 -0.190321   \n",
       "4 -0.270533  0.817739  0.753074  ...  0.408542 -0.009431  0.798278 -0.137458   \n",
       "\n",
       "        V24       V25       V26       V27       V28  norm_amount  \n",
       "0  0.066928  0.128539 -0.189115  0.133558 -0.021053     0.244964  \n",
       "1 -0.339846  0.167170  0.125895 -0.008983  0.014724    -0.342475  \n",
       "2 -0.689281 -0.327642 -0.139097 -0.055353 -0.059752     1.160686  \n",
       "3 -1.175575  0.647376 -0.221929  0.062723  0.061458     0.140534  \n",
       "4  0.141267 -0.206010  0.502292  0.219422  0.215153    -0.073403  \n",
       "\n",
       "[5 rows x 29 columns]"
      ]
     },
     "execution_count": 10,
     "metadata": {},
     "output_type": "execute_result"
    }
   ],
   "source": [
    "X = df.drop(['Class'],axis=1)\n",
    "X[:5]"
   ]
  },
  {
   "cell_type": "code",
   "execution_count": 11,
   "metadata": {
    "execution": {
     "iopub.execute_input": "2020-08-09T18:28:10.008014Z",
     "iopub.status.busy": "2020-08-09T18:28:10.007090Z",
     "iopub.status.idle": "2020-08-09T18:28:10.012254Z",
     "shell.execute_reply": "2020-08-09T18:28:10.011482Z"
    },
    "papermill": {
     "duration": 0.029876,
     "end_time": "2020-08-09T18:28:10.012384",
     "exception": false,
     "start_time": "2020-08-09T18:28:09.982508",
     "status": "completed"
    },
    "tags": []
   },
   "outputs": [
    {
     "data": {
      "text/html": [
       "<div>\n",
       "<style scoped>\n",
       "    .dataframe tbody tr th:only-of-type {\n",
       "        vertical-align: middle;\n",
       "    }\n",
       "\n",
       "    .dataframe tbody tr th {\n",
       "        vertical-align: top;\n",
       "    }\n",
       "\n",
       "    .dataframe thead th {\n",
       "        text-align: right;\n",
       "    }\n",
       "</style>\n",
       "<table border=\"1\" class=\"dataframe\">\n",
       "  <thead>\n",
       "    <tr style=\"text-align: right;\">\n",
       "      <th></th>\n",
       "      <th>Class</th>\n",
       "    </tr>\n",
       "  </thead>\n",
       "  <tbody>\n",
       "    <tr>\n",
       "      <th>0</th>\n",
       "      <td>0</td>\n",
       "    </tr>\n",
       "    <tr>\n",
       "      <th>1</th>\n",
       "      <td>0</td>\n",
       "    </tr>\n",
       "    <tr>\n",
       "      <th>2</th>\n",
       "      <td>0</td>\n",
       "    </tr>\n",
       "    <tr>\n",
       "      <th>3</th>\n",
       "      <td>0</td>\n",
       "    </tr>\n",
       "    <tr>\n",
       "      <th>4</th>\n",
       "      <td>0</td>\n",
       "    </tr>\n",
       "  </tbody>\n",
       "</table>\n",
       "</div>"
      ],
      "text/plain": [
       "   Class\n",
       "0      0\n",
       "1      0\n",
       "2      0\n",
       "3      0\n",
       "4      0"
      ]
     },
     "execution_count": 11,
     "metadata": {},
     "output_type": "execute_result"
    }
   ],
   "source": [
    "Y = df[['Class']]\n",
    "Y[:5]"
   ]
  },
  {
   "cell_type": "code",
   "execution_count": 12,
   "metadata": {
    "execution": {
     "iopub.execute_input": "2020-08-09T18:28:10.044183Z",
     "iopub.status.busy": "2020-08-09T18:28:10.043081Z",
     "iopub.status.idle": "2020-08-09T18:28:10.050039Z",
     "shell.execute_reply": "2020-08-09T18:28:10.049281Z"
    },
    "papermill": {
     "duration": 0.024631,
     "end_time": "2020-08-09T18:28:10.050168",
     "exception": false,
     "start_time": "2020-08-09T18:28:10.025537",
     "status": "completed"
    },
    "tags": []
   },
   "outputs": [
    {
     "data": {
      "text/plain": [
       "RandomOverSampler(sampling_strategy=0.5)"
      ]
     },
     "execution_count": 12,
     "metadata": {},
     "output_type": "execute_result"
    }
   ],
   "source": [
    "ros =  RandomOverSampler(sampling_strategy=0.5) #To perform Oversampling\n",
    "ros"
   ]
  },
  {
   "cell_type": "code",
   "execution_count": 13,
   "metadata": {
    "execution": {
     "iopub.execute_input": "2020-08-09T18:28:10.082457Z",
     "iopub.status.busy": "2020-08-09T18:28:10.081340Z",
     "iopub.status.idle": "2020-08-09T18:28:11.007206Z",
     "shell.execute_reply": "2020-08-09T18:28:11.006407Z"
    },
    "papermill": {
     "duration": 0.944459,
     "end_time": "2020-08-09T18:28:11.007342",
     "exception": false,
     "start_time": "2020-08-09T18:28:10.062883",
     "status": "completed"
    },
    "tags": []
   },
   "outputs": [
    {
     "name": "stdout",
     "output_type": "stream",
     "text": [
      "(426472, 29)\n",
      "(426472, 1)\n"
     ]
    }
   ],
   "source": [
    "Xs, ys = ros.fit_sample(X, Y)\n",
    "print(Xs.shape)\n",
    "print(ys.shape)"
   ]
  },
  {
   "cell_type": "code",
   "execution_count": 14,
   "metadata": {
    "execution": {
     "iopub.execute_input": "2020-08-09T18:28:11.076848Z",
     "iopub.status.busy": "2020-08-09T18:28:11.071304Z",
     "iopub.status.idle": "2020-08-09T18:28:11.083096Z",
     "shell.execute_reply": "2020-08-09T18:28:11.084446Z"
    },
    "papermill": {
     "duration": 0.059051,
     "end_time": "2020-08-09T18:28:11.085243",
     "exception": false,
     "start_time": "2020-08-09T18:28:11.026192",
     "status": "completed"
    },
    "tags": []
   },
   "outputs": [
    {
     "data": {
      "text/plain": [
       "0    284315\n",
       "1    142157\n",
       "Name: Class, dtype: int64"
      ]
     },
     "execution_count": 14,
     "metadata": {},
     "output_type": "execute_result"
    }
   ],
   "source": [
    "ys['Class'].value_counts()"
   ]
  },
  {
   "cell_type": "code",
   "execution_count": 15,
   "metadata": {
    "execution": {
     "iopub.execute_input": "2020-08-09T18:28:11.133966Z",
     "iopub.status.busy": "2020-08-09T18:28:11.132817Z",
     "iopub.status.idle": "2020-08-09T18:28:11.136851Z",
     "shell.execute_reply": "2020-08-09T18:28:11.138034Z"
    },
    "papermill": {
     "duration": 0.033706,
     "end_time": "2020-08-09T18:28:11.138274",
     "exception": false,
     "start_time": "2020-08-09T18:28:11.104568",
     "status": "completed"
    },
    "tags": []
   },
   "outputs": [
    {
     "name": "stdout",
     "output_type": "stream",
     "text": [
      "[[-1.35980713 -0.07278117  2.53634674  1.37815522 -0.33832077  0.46238778\n",
      "   0.23959855  0.0986979   0.36378697  0.09079417 -0.55159953 -0.61780086\n",
      "  -0.99138985 -0.31116935  1.46817697 -0.47040053  0.20797124  0.02579058\n",
      "   0.40399296  0.2514121  -0.01830678  0.27783758 -0.11047391  0.06692807\n",
      "   0.12853936 -0.18911484  0.13355838 -0.02105305  0.24496426]]\n",
      "[[0]\n",
      " [0]\n",
      " [0]]\n"
     ]
    }
   ],
   "source": [
    "Xs = Xs.values\n",
    "ys = ys.values\n",
    "print(Xs[:1])\n",
    "print(ys[:3])"
   ]
  },
  {
   "cell_type": "code",
   "execution_count": 16,
   "metadata": {
    "execution": {
     "iopub.execute_input": "2020-08-09T18:28:11.175350Z",
     "iopub.status.busy": "2020-08-09T18:28:11.174531Z",
     "iopub.status.idle": "2020-08-09T18:28:11.178676Z",
     "shell.execute_reply": "2020-08-09T18:28:11.177938Z"
    },
    "papermill": {
     "duration": 0.022706,
     "end_time": "2020-08-09T18:28:11.178804",
     "exception": false,
     "start_time": "2020-08-09T18:28:11.156098",
     "status": "completed"
    },
    "tags": []
   },
   "outputs": [],
   "source": [
    "from sklearn.model_selection import train_test_split"
   ]
  },
  {
   "cell_type": "code",
   "execution_count": 17,
   "metadata": {
    "execution": {
     "iopub.execute_input": "2020-08-09T18:28:11.213021Z",
     "iopub.status.busy": "2020-08-09T18:28:11.212066Z",
     "iopub.status.idle": "2020-08-09T18:28:11.466109Z",
     "shell.execute_reply": "2020-08-09T18:28:11.464984Z"
    },
    "papermill": {
     "duration": 0.274266,
     "end_time": "2020-08-09T18:28:11.466302",
     "exception": false,
     "start_time": "2020-08-09T18:28:11.192036",
     "status": "completed"
    },
    "tags": []
   },
   "outputs": [
    {
     "name": "stdout",
     "output_type": "stream",
     "text": [
      "(319854, 29)\n",
      "(106618, 29)\n",
      "(319854, 1)\n",
      "(106618, 1)\n"
     ]
    }
   ],
   "source": [
    "X_train, X_test, y_train, y_test = train_test_split(Xs, ys, test_size = 0.25, random_state = 16)\n",
    "print(X_train.shape)\n",
    "print(X_test.shape)\n",
    "print(y_train.shape)\n",
    "print(y_test.shape)"
   ]
  },
  {
   "cell_type": "code",
   "execution_count": 18,
   "metadata": {
    "execution": {
     "iopub.execute_input": "2020-08-09T18:28:11.508069Z",
     "iopub.status.busy": "2020-08-09T18:28:11.506951Z",
     "iopub.status.idle": "2020-08-09T18:28:11.733446Z",
     "shell.execute_reply": "2020-08-09T18:28:11.732600Z"
    },
    "papermill": {
     "duration": 0.252157,
     "end_time": "2020-08-09T18:28:11.733583",
     "exception": false,
     "start_time": "2020-08-09T18:28:11.481426",
     "status": "completed"
    },
    "tags": []
   },
   "outputs": [],
   "source": [
    "from sklearn.preprocessing import MinMaxScaler\n",
    "scaler = MinMaxScaler()\n",
    "train_X = scaler.fit_transform(X_train)\n",
    "test_X = scaler.transform(X_test)"
   ]
  },
  {
   "cell_type": "markdown",
   "metadata": {
    "papermill": {
     "duration": 0.013092,
     "end_time": "2020-08-09T18:28:11.760608",
     "exception": false,
     "start_time": "2020-08-09T18:28:11.747516",
     "status": "completed"
    },
    "tags": []
   },
   "source": [
    "Now we will perform classification using Support Vector Machine(SVM)."
   ]
  },
  {
   "cell_type": "code",
   "execution_count": 19,
   "metadata": {
    "execution": {
     "iopub.execute_input": "2020-08-09T18:28:11.793135Z",
     "iopub.status.busy": "2020-08-09T18:28:11.792185Z",
     "iopub.status.idle": "2020-08-09T18:28:11.794663Z",
     "shell.execute_reply": "2020-08-09T18:28:11.795238Z"
    },
    "papermill": {
     "duration": 0.021378,
     "end_time": "2020-08-09T18:28:11.795393",
     "exception": false,
     "start_time": "2020-08-09T18:28:11.774015",
     "status": "completed"
    },
    "tags": []
   },
   "outputs": [],
   "source": [
    "from sklearn.svm import SVC"
   ]
  },
  {
   "cell_type": "code",
   "execution_count": 20,
   "metadata": {
    "execution": {
     "iopub.execute_input": "2020-08-09T18:28:11.829416Z",
     "iopub.status.busy": "2020-08-09T18:28:11.828314Z",
     "iopub.status.idle": "2020-08-09T18:28:11.833315Z",
     "shell.execute_reply": "2020-08-09T18:28:11.832727Z"
    },
    "papermill": {
     "duration": 0.024475,
     "end_time": "2020-08-09T18:28:11.833460",
     "exception": false,
     "start_time": "2020-08-09T18:28:11.808985",
     "status": "completed"
    },
    "tags": []
   },
   "outputs": [
    {
     "data": {
      "text/plain": [
       "SVC(kernel='linear')"
      ]
     },
     "execution_count": 20,
     "metadata": {},
     "output_type": "execute_result"
    }
   ],
   "source": [
    "classifier = SVC(kernel = 'linear')\n",
    "classifier"
   ]
  },
  {
   "cell_type": "code",
   "execution_count": 21,
   "metadata": {
    "execution": {
     "iopub.execute_input": "2020-08-09T18:28:11.867212Z",
     "iopub.status.busy": "2020-08-09T18:28:11.866417Z",
     "iopub.status.idle": "2020-08-09T18:46:04.491314Z",
     "shell.execute_reply": "2020-08-09T18:46:04.492063Z"
    },
    "papermill": {
     "duration": 1072.645848,
     "end_time": "2020-08-09T18:46:04.492973",
     "exception": false,
     "start_time": "2020-08-09T18:28:11.847125",
     "status": "completed"
    },
    "tags": []
   },
   "outputs": [
    {
     "data": {
      "text/plain": [
       "SVC(kernel='linear')"
      ]
     },
     "execution_count": 21,
     "metadata": {},
     "output_type": "execute_result"
    }
   ],
   "source": [
    "classifier.fit(train_X, y_train)"
   ]
  },
  {
   "cell_type": "code",
   "execution_count": 22,
   "metadata": {
    "execution": {
     "iopub.execute_input": "2020-08-09T18:46:04.532733Z",
     "iopub.status.busy": "2020-08-09T18:46:04.531428Z",
     "iopub.status.idle": "2020-08-09T18:47:52.964176Z",
     "shell.execute_reply": "2020-08-09T18:47:52.964913Z"
    },
    "papermill": {
     "duration": 108.458158,
     "end_time": "2020-08-09T18:47:52.965116",
     "exception": false,
     "start_time": "2020-08-09T18:46:04.506958",
     "status": "completed"
    },
    "tags": []
   },
   "outputs": [
    {
     "data": {
      "text/plain": [
       "array([0, 1, 0, ..., 0, 1, 0])"
      ]
     },
     "execution_count": 22,
     "metadata": {},
     "output_type": "execute_result"
    }
   ],
   "source": [
    "y_pred = classifier.predict(test_X)\n",
    "y_pred"
   ]
  },
  {
   "cell_type": "code",
   "execution_count": 23,
   "metadata": {
    "execution": {
     "iopub.execute_input": "2020-08-09T18:47:53.001926Z",
     "iopub.status.busy": "2020-08-09T18:47:53.000851Z",
     "iopub.status.idle": "2020-08-09T18:47:53.004210Z",
     "shell.execute_reply": "2020-08-09T18:47:53.003390Z"
    },
    "papermill": {
     "duration": 0.025179,
     "end_time": "2020-08-09T18:47:53.004345",
     "exception": false,
     "start_time": "2020-08-09T18:47:52.979166",
     "status": "completed"
    },
    "tags": []
   },
   "outputs": [],
   "source": [
    "from sklearn.metrics import accuracy_score \n",
    "from sklearn.metrics import confusion_matrix\n",
    "from sklearn.metrics import classification_report"
   ]
  },
  {
   "cell_type": "code",
   "execution_count": 24,
   "metadata": {
    "execution": {
     "iopub.execute_input": "2020-08-09T18:47:53.040892Z",
     "iopub.status.busy": "2020-08-09T18:47:53.039784Z",
     "iopub.status.idle": "2020-08-09T18:47:53.060425Z",
     "shell.execute_reply": "2020-08-09T18:47:53.061247Z"
    },
    "papermill": {
     "duration": 0.042764,
     "end_time": "2020-08-09T18:47:53.061459",
     "exception": false,
     "start_time": "2020-08-09T18:47:53.018695",
     "status": "completed"
    },
    "tags": []
   },
   "outputs": [
    {
     "name": "stdout",
     "output_type": "stream",
     "text": [
      "Accuracy of Model on test data:   95.33756026186948\n"
     ]
    }
   ],
   "source": [
    "print(\"Accuracy of Model on test data:  \", accuracy_score(y_test, y_pred) *  100)"
   ]
  },
  {
   "cell_type": "code",
   "execution_count": 25,
   "metadata": {
    "execution": {
     "iopub.execute_input": "2020-08-09T18:47:53.096325Z",
     "iopub.status.busy": "2020-08-09T18:47:53.095526Z",
     "iopub.status.idle": "2020-08-09T18:47:53.294314Z",
     "shell.execute_reply": "2020-08-09T18:47:53.293640Z"
    },
    "papermill": {
     "duration": 0.218224,
     "end_time": "2020-08-09T18:47:53.294446",
     "exception": false,
     "start_time": "2020-08-09T18:47:53.076222",
     "status": "completed"
    },
    "tags": []
   },
   "outputs": [
    {
     "name": "stdout",
     "output_type": "stream",
     "text": [
      "              precision    recall  f1-score   support\n",
      "\n",
      "           0       0.94      0.99      0.97     70990\n",
      "           1       0.98      0.88      0.93     35628\n",
      "\n",
      "    accuracy                           0.95    106618\n",
      "   macro avg       0.96      0.93      0.95    106618\n",
      "weighted avg       0.95      0.95      0.95    106618\n",
      "\n"
     ]
    }
   ],
   "source": [
    "print(classification_report(y_test, y_pred))"
   ]
  },
  {
   "cell_type": "code",
   "execution_count": 26,
   "metadata": {
    "execution": {
     "iopub.execute_input": "2020-08-09T18:47:53.330499Z",
     "iopub.status.busy": "2020-08-09T18:47:53.329721Z",
     "iopub.status.idle": "2020-08-09T18:47:53.780861Z",
     "shell.execute_reply": "2020-08-09T18:47:53.780211Z"
    },
    "papermill": {
     "duration": 0.471913,
     "end_time": "2020-08-09T18:47:53.780991",
     "exception": false,
     "start_time": "2020-08-09T18:47:53.309078",
     "status": "completed"
    },
    "tags": []
   },
   "outputs": [
    {
     "data": {
      "text/plain": [
       "<matplotlib.axes._subplots.AxesSubplot at 0x7f60dd3c1fd0>"
      ]
     },
     "execution_count": 26,
     "metadata": {},
     "output_type": "execute_result"
    },
    {
     "data": {
      "image/png": "[encoded data removed]",
      "text/plain": [
       "<Figure size 432x288 with 2 Axes>"
      ]
     },
     "metadata": {
      "needs_background": "light"
     },
     "output_type": "display_data"
    }
   ],
   "source": [
    "cm = confusion_matrix(y_test, y_pred)\n",
    "sns.heatmap(cm,annot=True,fmt=\"d\")"
   ]
  },
  {
   "cell_type": "code",
   "execution_count": null,
   "metadata": {
    "papermill": {
     "duration": 0.014396,
     "end_time": "2020-08-09T18:47:53.810495",
     "exception": false,
     "start_time": "2020-08-09T18:47:53.796099",
     "status": "completed"
    },
    "tags": []
   },
   "outputs": [],
   "source": []
  }
 ],
 "metadata": {
  "kernelspec": {
   "display_name": "Python 3",
   "language": "python",
   "name": "python3"
  },
  "language_info": {
   "codemirror_mode": {
    "name": "ipython",
    "version": 3
   },
   "file_extension": ".py",
   "mimetype": "text/x-python",
   "name": "python",
   "nbconvert_exporter": "python",
   "pygments_lexer": "ipython3",
   "version": "3.7.3"
  },
  "papermill": {
   "duration": 1194.098925,
   "end_time": "2020-08-09T18:47:53.936709",
   "environment_variables": {},
   "exception": null,
   "input_path": "__notebook__.ipynb",
   "output_path": "__notebook__.ipynb",
   "parameters": {},
   "start_time": "2020-08-09T18:27:59.837784",
   "version": "2.1.0"
  },
  "toc": {
   "base_numbering": 1,
   "nav_menu": {},
   "number_sections": true,
   "sideBar": true,
   "skip_h1_title": false,
   "title_cell": "Table of Contents",
   "title_sidebar": "Contents",
   "toc_cell": false,
   "toc_position": {},
   "toc_section_display": true,
   "toc_window_display": false
  },
  "varInspector": {
   "cols": {
    "lenName": 16,
    "lenType": 16,
    "lenVar": 40
   },
   "kernels_config": {
    "python": {
     "delete_cmd_postfix": "",
     "delete_cmd_prefix": "del ",
     "library": "var_list.py",
     "varRefreshCmd": "print(var_dic_list())"
    },
    "r": {
     "delete_cmd_postfix": ") ",
     "delete_cmd_prefix": "rm(",
     "library": "var_list.r",
     "varRefreshCmd": "cat(var_dic_list()) "
    }
   },
   "types_to_exclude": [
    "module",
    "function",
    "builtin_function_or_method",
    "instance",
    "_Feature"
   ],
   "window_display": false
  }
 },
 "nbformat": 4,
 "nbformat_minor": 4
}
